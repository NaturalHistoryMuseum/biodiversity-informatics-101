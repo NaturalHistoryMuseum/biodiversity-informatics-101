{
 "cells": [
  {
   "cell_type": "markdown",
   "metadata": {},
   "source": [
    "# UK Invasive Species - Harlequin ladybird"
   ]
  },
  {
   "cell_type": "markdown",
   "metadata": {},
   "source": [
    "### This Notebook will lead you through exercises to explore occurrences of the invasive Harlequin ladybird (*Harmonia axyridis*) in the UK. \n",
    "\n",
    "In this notebook, you will:\n",
    "\n",
    "$\\bullet$ Learn how to use Jupyter Notebooks\n",
    "\n",
    "$\\bullet$ Learn how to read DarwinCore archive data files\n",
    "\n",
    "$\\bullet$ Learn how to use Pandas dataframes\n",
    "\n",
    "$\\bullet$ Learn how to display occurences on a map, as both points and density.\n",
    "\n",
    "$\\bullet$ Visualise the data against time in KeplerGL (https://kepler.gl/)\n",
    "\n",
    "\n",
    "\n",
    "### If you have time and want to go further with your analysis:\n",
    "\n",
    "$\\bullet$ Map the distribution of *Harmonia axyridis* against an impacted native species, for example *Adalia bipunctata*."
   ]
  },
  {
   "cell_type": "markdown",
   "metadata": {},
   "source": [
    "## Jupyter Notebooks\n",
    "\n",
    "\n",
    "\n",
    "\n",
    "Jupyter notebooks are a great way to write code, and especially for data science projects.\n",
    "\n",
    "A notebook integrates code and its output into a single document that combines visualizations, narrative text, mathematical equations, and other rich media. The notebook consists of cells, which can be either code or markdown (text).\n",
    "\n",
    "To execute python code in a cell, you \"Run\" it, by either pressing ```shift``` and ```enter``` keys, or using the run button at the top.\n",
    "\n",
    "![](assets/run.png)\n",
    "\n",
    "Let's try that out:\n",
    "\n",
    "\n",
    "\n",
    "\n"
   ]
  },
  {
   "cell_type": "code",
   "execution_count": 1,
   "metadata": {},
   "outputs": [],
   "source": [
    "# print(\"Hello world\")"
   ]
  },
  {
   "cell_type": "code",
   "execution_count": 2,
   "metadata": {},
   "outputs": [],
   "source": [
    "### Python imports\n",
    "\n",
    "import geopandas\n",
    "import geoplot\n",
    "\n",
    "# Map projections\n",
    "import geoplot.crs as gcrs\n",
    "\n",
    "from keplergl import KeplerGl\n",
    "import matplotlib.pyplot as plt\n",
    "import pandas as pd\n",
    "\n",
    "import shapely\n",
    "\n",
    "# Local imports - mapconfig for KeplerGL\n",
    "from helpers import map_config\n",
    "\n",
    "# Disable shapely speedups (fixes a bug when displaying some map data)\n",
    "# shapely.speedups.disable()\n",
    "\n",
    "# Display plots inline\n",
    "%matplotlib inline\n"
   ]
  },
  {
   "cell_type": "code",
   "execution_count": 3,
   "metadata": {},
   "outputs": [],
   "source": [
    "# df = pd.read_csv('https://github.com/benscott/biodiversity-informatics-101-data/raw/main/gbif_dwca/occurrence.txt', sep='\\t', low_memory=False)"
   ]
  }
 ],
 "metadata": {
  "kernelspec": {
   "display_name": "Informatics101",
   "language": "python",
   "name": "informatics101"
  },
  "language_info": {
   "codemirror_mode": {
    "name": "ipython",
    "version": 3
   },
   "file_extension": ".py",
   "mimetype": "text/x-python",
   "name": "python",
   "nbconvert_exporter": "python",
   "pygments_lexer": "ipython3",
   "version": "3.10.13"
  }
 },
 "nbformat": 4,
 "nbformat_minor": 4
}
